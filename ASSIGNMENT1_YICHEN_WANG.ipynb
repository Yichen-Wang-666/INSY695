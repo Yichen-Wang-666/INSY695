{
 "cells": [
  {
   "cell_type": "markdown",
   "id": "6d1bd25e",
   "metadata": {},
   "source": [
    "**The real estate markets, like those in Sydney and Melbourne, present an interesting opportunity for data analysts to analyze and predict where property prices are moving towards. Prediction of property prices is becoming increasingly important and beneficial. Property prices are a good indicator of both the overall market condition and the economic health of a country. For this assignment, the dataset will be used to train the model for predicting the price of the property in the market.**"
   ]
  },
  {
   "cell_type": "code",
   "execution_count": 76,
   "id": "00aa0d3a",
   "metadata": {},
   "outputs": [],
   "source": [
    "# Python ≥3.5 is required\n",
    "import sys\n",
    "assert sys.version_info >= (3, 5)\n",
    "\n",
    "# Scikit-Learn ≥0.20 is required\n",
    "import sklearn\n",
    "assert sklearn.__version__ >= \"0.20\"\n",
    "\n",
    "# Common imports\n",
    "import numpy as np\n",
    "import os"
   ]
  },
  {
   "cell_type": "markdown",
   "id": "875238b9",
   "metadata": {},
   "source": [
    "*Import the dataset:(the dataset should be placed in the same folder as the notebook)*"
   ]
  },
  {
   "cell_type": "code",
   "execution_count": 77,
   "id": "507f1a7d",
   "metadata": {},
   "outputs": [
    {
     "data": {
      "text/html": [
       "<div>\n",
       "<style scoped>\n",
       "    .dataframe tbody tr th:only-of-type {\n",
       "        vertical-align: middle;\n",
       "    }\n",
       "\n",
       "    .dataframe tbody tr th {\n",
       "        vertical-align: top;\n",
       "    }\n",
       "\n",
       "    .dataframe thead th {\n",
       "        text-align: right;\n",
       "    }\n",
       "</style>\n",
       "<table border=\"1\" class=\"dataframe\">\n",
       "  <thead>\n",
       "    <tr style=\"text-align: right;\">\n",
       "      <th></th>\n",
       "      <th>date</th>\n",
       "      <th>price</th>\n",
       "      <th>bedrooms</th>\n",
       "      <th>bathrooms</th>\n",
       "      <th>sqft_living</th>\n",
       "      <th>sqft_lot</th>\n",
       "      <th>floors</th>\n",
       "      <th>waterfront</th>\n",
       "      <th>view</th>\n",
       "      <th>condition</th>\n",
       "      <th>sqft_above</th>\n",
       "      <th>sqft_basement</th>\n",
       "      <th>yr_built</th>\n",
       "      <th>yr_renovated</th>\n",
       "      <th>street</th>\n",
       "      <th>city</th>\n",
       "      <th>statezip</th>\n",
       "      <th>country</th>\n",
       "    </tr>\n",
       "  </thead>\n",
       "  <tbody>\n",
       "    <tr>\n",
       "      <th>0</th>\n",
       "      <td>2014-05-02 0:00</td>\n",
       "      <td>313000.0</td>\n",
       "      <td>3</td>\n",
       "      <td>1.50</td>\n",
       "      <td>1340.0</td>\n",
       "      <td>7912.0</td>\n",
       "      <td>1.5</td>\n",
       "      <td>0.0</td>\n",
       "      <td>0.0</td>\n",
       "      <td>3.0</td>\n",
       "      <td>1340</td>\n",
       "      <td>0.0</td>\n",
       "      <td>1955</td>\n",
       "      <td>2005</td>\n",
       "      <td>18810 Densmore Ave N</td>\n",
       "      <td>Shoreline</td>\n",
       "      <td>WA 98133</td>\n",
       "      <td>USA</td>\n",
       "    </tr>\n",
       "    <tr>\n",
       "      <th>1</th>\n",
       "      <td>2014-05-02 0:00</td>\n",
       "      <td>2384000.0</td>\n",
       "      <td>5</td>\n",
       "      <td>2.50</td>\n",
       "      <td>3650.0</td>\n",
       "      <td>9050.0</td>\n",
       "      <td>2.0</td>\n",
       "      <td>0.0</td>\n",
       "      <td>4.0</td>\n",
       "      <td>5.0</td>\n",
       "      <td>3370</td>\n",
       "      <td>280.0</td>\n",
       "      <td>1921</td>\n",
       "      <td>0</td>\n",
       "      <td>709 W Blaine St</td>\n",
       "      <td>Seattle</td>\n",
       "      <td>WA 98119</td>\n",
       "      <td>USA</td>\n",
       "    </tr>\n",
       "    <tr>\n",
       "      <th>2</th>\n",
       "      <td>2014-05-02 0:00</td>\n",
       "      <td>342000.0</td>\n",
       "      <td>3</td>\n",
       "      <td>2.00</td>\n",
       "      <td>1930.0</td>\n",
       "      <td>11947.0</td>\n",
       "      <td>1.0</td>\n",
       "      <td>0.0</td>\n",
       "      <td>0.0</td>\n",
       "      <td>4.0</td>\n",
       "      <td>1930</td>\n",
       "      <td>0.0</td>\n",
       "      <td>1966</td>\n",
       "      <td>0</td>\n",
       "      <td>26206-26214 143rd Ave SE</td>\n",
       "      <td>Kent</td>\n",
       "      <td>WA 98042</td>\n",
       "      <td>USA</td>\n",
       "    </tr>\n",
       "    <tr>\n",
       "      <th>3</th>\n",
       "      <td>2014-05-02 0:00</td>\n",
       "      <td>420000.0</td>\n",
       "      <td>3</td>\n",
       "      <td>2.25</td>\n",
       "      <td>2000.0</td>\n",
       "      <td>8030.0</td>\n",
       "      <td>1.0</td>\n",
       "      <td>0.0</td>\n",
       "      <td>0.0</td>\n",
       "      <td>4.0</td>\n",
       "      <td>1000</td>\n",
       "      <td>1000.0</td>\n",
       "      <td>1963</td>\n",
       "      <td>0</td>\n",
       "      <td>857 170th Pl NE</td>\n",
       "      <td>Bellevue</td>\n",
       "      <td>WA 98008</td>\n",
       "      <td>USA</td>\n",
       "    </tr>\n",
       "    <tr>\n",
       "      <th>4</th>\n",
       "      <td>2014-05-02 0:00</td>\n",
       "      <td>550000.0</td>\n",
       "      <td>4</td>\n",
       "      <td>2.50</td>\n",
       "      <td>1940.0</td>\n",
       "      <td>10500.0</td>\n",
       "      <td>1.0</td>\n",
       "      <td>0.0</td>\n",
       "      <td>0.0</td>\n",
       "      <td>4.0</td>\n",
       "      <td>1140</td>\n",
       "      <td>800.0</td>\n",
       "      <td>1976</td>\n",
       "      <td>1992</td>\n",
       "      <td>9105 170th Ave NE</td>\n",
       "      <td>Redmond</td>\n",
       "      <td>WA 98052</td>\n",
       "      <td>USA</td>\n",
       "    </tr>\n",
       "  </tbody>\n",
       "</table>\n",
       "</div>"
      ],
      "text/plain": [
       "              date      price  bedrooms  bathrooms  sqft_living  sqft_lot  \\\n",
       "0  2014-05-02 0:00   313000.0         3       1.50       1340.0    7912.0   \n",
       "1  2014-05-02 0:00  2384000.0         5       2.50       3650.0    9050.0   \n",
       "2  2014-05-02 0:00   342000.0         3       2.00       1930.0   11947.0   \n",
       "3  2014-05-02 0:00   420000.0         3       2.25       2000.0    8030.0   \n",
       "4  2014-05-02 0:00   550000.0         4       2.50       1940.0   10500.0   \n",
       "\n",
       "   floors  waterfront  view  condition  sqft_above  sqft_basement  yr_built  \\\n",
       "0     1.5         0.0   0.0        3.0        1340            0.0      1955   \n",
       "1     2.0         0.0   4.0        5.0        3370          280.0      1921   \n",
       "2     1.0         0.0   0.0        4.0        1930            0.0      1966   \n",
       "3     1.0         0.0   0.0        4.0        1000         1000.0      1963   \n",
       "4     1.0         0.0   0.0        4.0        1140          800.0      1976   \n",
       "\n",
       "   yr_renovated                    street       city  statezip country  \n",
       "0          2005      18810 Densmore Ave N  Shoreline  WA 98133     USA  \n",
       "1             0           709 W Blaine St    Seattle  WA 98119     USA  \n",
       "2             0  26206-26214 143rd Ave SE       Kent  WA 98042     USA  \n",
       "3             0           857 170th Pl NE   Bellevue  WA 98008     USA  \n",
       "4          1992         9105 170th Ave NE    Redmond  WA 98052     USA  "
      ]
     },
     "execution_count": 77,
     "metadata": {},
     "output_type": "execute_result"
    }
   ],
   "source": [
    "import pandas as pd\n",
    "df = pd.read_csv(\"data_Yichen.csv\")\n",
    "df.head()"
   ]
  },
  {
   "cell_type": "code",
   "execution_count": 78,
   "id": "19d7405a",
   "metadata": {},
   "outputs": [
    {
     "name": "stdout",
     "output_type": "stream",
     "text": [
      "<class 'pandas.core.frame.DataFrame'>\n",
      "RangeIndex: 4600 entries, 0 to 4599\n",
      "Data columns (total 18 columns):\n",
      " #   Column         Non-Null Count  Dtype  \n",
      "---  ------         --------------  -----  \n",
      " 0   date           4600 non-null   object \n",
      " 1   price          4600 non-null   float64\n",
      " 2   bedrooms       4600 non-null   int64  \n",
      " 3   bathrooms      4600 non-null   float64\n",
      " 4   sqft_living    4595 non-null   float64\n",
      " 5   sqft_lot       4596 non-null   float64\n",
      " 6   floors         4599 non-null   float64\n",
      " 7   waterfront     4596 non-null   float64\n",
      " 8   view           4597 non-null   float64\n",
      " 9   condition      4593 non-null   float64\n",
      " 10  sqft_above     4600 non-null   int64  \n",
      " 11  sqft_basement  4596 non-null   float64\n",
      " 12  yr_built       4600 non-null   int64  \n",
      " 13  yr_renovated   4600 non-null   int64  \n",
      " 14  street         4600 non-null   object \n",
      " 15  city           4600 non-null   object \n",
      " 16  statezip       4600 non-null   object \n",
      " 17  country        4600 non-null   object \n",
      "dtypes: float64(9), int64(4), object(5)\n",
      "memory usage: 647.0+ KB\n"
     ]
    }
   ],
   "source": [
    "df.info()"
   ]
  },
  {
   "cell_type": "code",
   "execution_count": 79,
   "id": "6dc431c6",
   "metadata": {},
   "outputs": [
    {
     "name": "stdout",
     "output_type": "stream",
     "text": [
      "2014-06-23 0:00    142\n",
      "2014-06-26 0:00    131\n",
      "2014-06-25 0:00    131\n",
      "2014-07-08 0:00    127\n",
      "2014-07-09 0:00    121\n",
      "                  ... \n",
      "2014-06-07 0:00      4\n",
      "2014-07-06 0:00      3\n",
      "2014-05-11 0:00      2\n",
      "2014-07-04 0:00      2\n",
      "2014-05-17 0:00      1\n",
      "Name: date, Length: 70, dtype: int64\n",
      "-------------------------------------\n",
      "2520 Mulberry Walk NE    4\n",
      "2500 Mulberry Walk NE    3\n",
      "5010 Greenwood Ave N     2\n",
      "23620 SE 243rd Pl        2\n",
      "5703 Charlotte Ave SE    2\n",
      "                        ..\n",
      "15712 NE 136th Pl        1\n",
      "16232 SE 10th St         1\n",
      "14102 SE 42nd St         1\n",
      "16032 SE 170th Pl        1\n",
      "12036 23rd Ave S         1\n",
      "Name: street, Length: 4525, dtype: int64\n",
      "-------------------------------------\n",
      "Seattle                1573\n",
      "Renton                  293\n",
      "Bellevue                286\n",
      "Redmond                 235\n",
      "Kirkland                187\n",
      "Issaquah                187\n",
      "Kent                    185\n",
      "Auburn                  176\n",
      "Sammamish               175\n",
      "Federal Way             148\n",
      "Shoreline               123\n",
      "Woodinville             115\n",
      "Maple Valley             96\n",
      "Mercer Island            86\n",
      "Burien                   74\n",
      "Snoqualmie               71\n",
      "Kenmore                  66\n",
      "Des Moines               58\n",
      "North Bend               50\n",
      "Covington                43\n",
      "Duvall                   42\n",
      "Lake Forest Park         36\n",
      "Newcastle                33\n",
      "Bothell                  33\n",
      "Tukwila                  29\n",
      "SeaTac                   29\n",
      "Vashon                   29\n",
      "Enumclaw                 28\n",
      "Carnation                22\n",
      "Normandy Park            18\n",
      "Fall City                11\n",
      "Clyde Hill               11\n",
      "Medina                   11\n",
      "Black Diamond             9\n",
      "Ravensdale                7\n",
      "Pacific                   6\n",
      "Algona                    5\n",
      "Yarrow Point              4\n",
      "Skykomish                 3\n",
      "Milton                    2\n",
      "Preston                   2\n",
      "Inglewood-Finn Hill       1\n",
      "Beaux Arts Village        1\n",
      "Snoqualmie Pass           1\n",
      "Name: city, dtype: int64\n",
      "-------------------------------------\n",
      "WA 98103    148\n",
      "WA 98052    135\n",
      "WA 98117    132\n",
      "WA 98115    130\n",
      "WA 98006    110\n",
      "           ... \n",
      "WA 98047      6\n",
      "WA 98288      3\n",
      "WA 98050      2\n",
      "WA 98354      2\n",
      "WA 98068      1\n",
      "Name: statezip, Length: 77, dtype: int64\n",
      "-------------------------------------\n",
      "USA    4600\n",
      "Name: country, dtype: int64\n",
      "-------------------------------------\n"
     ]
    }
   ],
   "source": [
    "objects= [\"date\",\"street\",\"city\",\"statezip\",\"country\"]\n",
    "for i in (objects):\n",
    "    print(df[i].value_counts())\n",
    "    print(\"-------------------------------------\")"
   ]
  },
  {
   "cell_type": "code",
   "execution_count": 80,
   "id": "21c8771d",
   "metadata": {},
   "outputs": [],
   "source": [
    "# Since there is a big difference between numbers of cities, we\n",
    "# will only have 5 categories: Seattle, Renton, Bellevue, Redmon and others\n",
    "df.loc[(df.city != \"Seattle\")&(df.city != \"Renton\")\n",
    "       &(df.city != \"Bellevue\")&(df.city != \"Redmond\"),\"city\"] = \"Other\"\n",
    "\n",
    "df_cat = df[[\"city\"]]"
   ]
  },
  {
   "cell_type": "code",
   "execution_count": 81,
   "id": "609f5e05",
   "metadata": {},
   "outputs": [
    {
     "data": {
      "text/html": [
       "<div>\n",
       "<style scoped>\n",
       "    .dataframe tbody tr th:only-of-type {\n",
       "        vertical-align: middle;\n",
       "    }\n",
       "\n",
       "    .dataframe tbody tr th {\n",
       "        vertical-align: top;\n",
       "    }\n",
       "\n",
       "    .dataframe thead th {\n",
       "        text-align: right;\n",
       "    }\n",
       "</style>\n",
       "<table border=\"1\" class=\"dataframe\">\n",
       "  <thead>\n",
       "    <tr style=\"text-align: right;\">\n",
       "      <th></th>\n",
       "      <th>price</th>\n",
       "      <th>bedrooms</th>\n",
       "      <th>bathrooms</th>\n",
       "      <th>sqft_living</th>\n",
       "      <th>sqft_lot</th>\n",
       "      <th>floors</th>\n",
       "      <th>waterfront</th>\n",
       "      <th>view</th>\n",
       "      <th>condition</th>\n",
       "      <th>sqft_above</th>\n",
       "      <th>sqft_basement</th>\n",
       "      <th>yr_built</th>\n",
       "      <th>yr_renovated</th>\n",
       "    </tr>\n",
       "  </thead>\n",
       "  <tbody>\n",
       "    <tr>\n",
       "      <th>count</th>\n",
       "      <td>4.600000e+03</td>\n",
       "      <td>4600.000000</td>\n",
       "      <td>4600.000000</td>\n",
       "      <td>4595.000000</td>\n",
       "      <td>4.596000e+03</td>\n",
       "      <td>4599.000000</td>\n",
       "      <td>4596.00000</td>\n",
       "      <td>4597.000000</td>\n",
       "      <td>4593.000000</td>\n",
       "      <td>4600.000000</td>\n",
       "      <td>4596.000000</td>\n",
       "      <td>4600.000000</td>\n",
       "      <td>4600.000000</td>\n",
       "    </tr>\n",
       "    <tr>\n",
       "      <th>mean</th>\n",
       "      <td>5.519630e+05</td>\n",
       "      <td>3.400870</td>\n",
       "      <td>2.160815</td>\n",
       "      <td>2139.444178</td>\n",
       "      <td>1.485578e+04</td>\n",
       "      <td>1.511959</td>\n",
       "      <td>0.00718</td>\n",
       "      <td>0.240157</td>\n",
       "      <td>3.451339</td>\n",
       "      <td>1827.265435</td>\n",
       "      <td>312.353133</td>\n",
       "      <td>1970.786304</td>\n",
       "      <td>808.608261</td>\n",
       "    </tr>\n",
       "    <tr>\n",
       "      <th>std</th>\n",
       "      <td>5.638347e+05</td>\n",
       "      <td>0.908848</td>\n",
       "      <td>0.783781</td>\n",
       "      <td>963.624306</td>\n",
       "      <td>3.589932e+04</td>\n",
       "      <td>0.538299</td>\n",
       "      <td>0.08444</td>\n",
       "      <td>0.777578</td>\n",
       "      <td>0.677117</td>\n",
       "      <td>862.168977</td>\n",
       "      <td>464.247819</td>\n",
       "      <td>29.731848</td>\n",
       "      <td>979.414536</td>\n",
       "    </tr>\n",
       "    <tr>\n",
       "      <th>min</th>\n",
       "      <td>0.000000e+00</td>\n",
       "      <td>0.000000</td>\n",
       "      <td>0.000000</td>\n",
       "      <td>370.000000</td>\n",
       "      <td>6.380000e+02</td>\n",
       "      <td>1.000000</td>\n",
       "      <td>0.00000</td>\n",
       "      <td>0.000000</td>\n",
       "      <td>1.000000</td>\n",
       "      <td>370.000000</td>\n",
       "      <td>0.000000</td>\n",
       "      <td>1900.000000</td>\n",
       "      <td>0.000000</td>\n",
       "    </tr>\n",
       "    <tr>\n",
       "      <th>25%</th>\n",
       "      <td>3.228750e+05</td>\n",
       "      <td>3.000000</td>\n",
       "      <td>1.750000</td>\n",
       "      <td>1460.000000</td>\n",
       "      <td>5.000000e+03</td>\n",
       "      <td>1.000000</td>\n",
       "      <td>0.00000</td>\n",
       "      <td>0.000000</td>\n",
       "      <td>3.000000</td>\n",
       "      <td>1190.000000</td>\n",
       "      <td>0.000000</td>\n",
       "      <td>1951.000000</td>\n",
       "      <td>0.000000</td>\n",
       "    </tr>\n",
       "    <tr>\n",
       "      <th>50%</th>\n",
       "      <td>4.609435e+05</td>\n",
       "      <td>3.000000</td>\n",
       "      <td>2.250000</td>\n",
       "      <td>1980.000000</td>\n",
       "      <td>7.683500e+03</td>\n",
       "      <td>1.500000</td>\n",
       "      <td>0.00000</td>\n",
       "      <td>0.000000</td>\n",
       "      <td>3.000000</td>\n",
       "      <td>1590.000000</td>\n",
       "      <td>0.000000</td>\n",
       "      <td>1976.000000</td>\n",
       "      <td>0.000000</td>\n",
       "    </tr>\n",
       "    <tr>\n",
       "      <th>75%</th>\n",
       "      <td>6.549625e+05</td>\n",
       "      <td>4.000000</td>\n",
       "      <td>2.500000</td>\n",
       "      <td>2620.000000</td>\n",
       "      <td>1.100125e+04</td>\n",
       "      <td>2.000000</td>\n",
       "      <td>0.00000</td>\n",
       "      <td>0.000000</td>\n",
       "      <td>4.000000</td>\n",
       "      <td>2300.000000</td>\n",
       "      <td>610.000000</td>\n",
       "      <td>1997.000000</td>\n",
       "      <td>1999.000000</td>\n",
       "    </tr>\n",
       "    <tr>\n",
       "      <th>max</th>\n",
       "      <td>2.659000e+07</td>\n",
       "      <td>9.000000</td>\n",
       "      <td>8.000000</td>\n",
       "      <td>13540.000000</td>\n",
       "      <td>1.074218e+06</td>\n",
       "      <td>3.500000</td>\n",
       "      <td>1.00000</td>\n",
       "      <td>4.000000</td>\n",
       "      <td>5.000000</td>\n",
       "      <td>9410.000000</td>\n",
       "      <td>4820.000000</td>\n",
       "      <td>2014.000000</td>\n",
       "      <td>2014.000000</td>\n",
       "    </tr>\n",
       "  </tbody>\n",
       "</table>\n",
       "</div>"
      ],
      "text/plain": [
       "              price     bedrooms    bathrooms   sqft_living      sqft_lot  \\\n",
       "count  4.600000e+03  4600.000000  4600.000000   4595.000000  4.596000e+03   \n",
       "mean   5.519630e+05     3.400870     2.160815   2139.444178  1.485578e+04   \n",
       "std    5.638347e+05     0.908848     0.783781    963.624306  3.589932e+04   \n",
       "min    0.000000e+00     0.000000     0.000000    370.000000  6.380000e+02   \n",
       "25%    3.228750e+05     3.000000     1.750000   1460.000000  5.000000e+03   \n",
       "50%    4.609435e+05     3.000000     2.250000   1980.000000  7.683500e+03   \n",
       "75%    6.549625e+05     4.000000     2.500000   2620.000000  1.100125e+04   \n",
       "max    2.659000e+07     9.000000     8.000000  13540.000000  1.074218e+06   \n",
       "\n",
       "            floors  waterfront         view    condition   sqft_above  \\\n",
       "count  4599.000000  4596.00000  4597.000000  4593.000000  4600.000000   \n",
       "mean      1.511959     0.00718     0.240157     3.451339  1827.265435   \n",
       "std       0.538299     0.08444     0.777578     0.677117   862.168977   \n",
       "min       1.000000     0.00000     0.000000     1.000000   370.000000   \n",
       "25%       1.000000     0.00000     0.000000     3.000000  1190.000000   \n",
       "50%       1.500000     0.00000     0.000000     3.000000  1590.000000   \n",
       "75%       2.000000     0.00000     0.000000     4.000000  2300.000000   \n",
       "max       3.500000     1.00000     4.000000     5.000000  9410.000000   \n",
       "\n",
       "       sqft_basement     yr_built  yr_renovated  \n",
       "count    4596.000000  4600.000000   4600.000000  \n",
       "mean      312.353133  1970.786304    808.608261  \n",
       "std       464.247819    29.731848    979.414536  \n",
       "min         0.000000  1900.000000      0.000000  \n",
       "25%         0.000000  1951.000000      0.000000  \n",
       "50%         0.000000  1976.000000      0.000000  \n",
       "75%       610.000000  1997.000000   1999.000000  \n",
       "max      4820.000000  2014.000000   2014.000000  "
      ]
     },
     "execution_count": 81,
     "metadata": {},
     "output_type": "execute_result"
    }
   ],
   "source": [
    "df.describe()"
   ]
  },
  {
   "cell_type": "code",
   "execution_count": 82,
   "id": "b8f46192",
   "metadata": {},
   "outputs": [
    {
     "data": {
      "image/png": "[encoded data removed]",
      "text/plain": [
       "<Figure size 1440x1080 with 16 Axes>"
      ]
     },
     "metadata": {
      "needs_background": "light"
     },
     "output_type": "display_data"
    }
   ],
   "source": [
    "%matplotlib inline\n",
    "import matplotlib.pyplot as plt\n",
    "df.hist(bins=50, figsize=(20,15))\n",
    "plt.show()"
   ]
  },
  {
   "cell_type": "markdown",
   "id": "dd6a6a03",
   "metadata": {},
   "source": [
    "# Test Set"
   ]
  },
  {
   "cell_type": "code",
   "execution_count": 83,
   "id": "1e404e23",
   "metadata": {},
   "outputs": [
    {
     "data": {
      "text/html": [
       "<div>\n",
       "<style scoped>\n",
       "    .dataframe tbody tr th:only-of-type {\n",
       "        vertical-align: middle;\n",
       "    }\n",
       "\n",
       "    .dataframe tbody tr th {\n",
       "        vertical-align: top;\n",
       "    }\n",
       "\n",
       "    .dataframe thead th {\n",
       "        text-align: right;\n",
       "    }\n",
       "</style>\n",
       "<table border=\"1\" class=\"dataframe\">\n",
       "  <thead>\n",
       "    <tr style=\"text-align: right;\">\n",
       "      <th></th>\n",
       "      <th>date</th>\n",
       "      <th>price</th>\n",
       "      <th>bedrooms</th>\n",
       "      <th>bathrooms</th>\n",
       "      <th>sqft_living</th>\n",
       "      <th>sqft_lot</th>\n",
       "      <th>floors</th>\n",
       "      <th>waterfront</th>\n",
       "      <th>view</th>\n",
       "      <th>condition</th>\n",
       "      <th>sqft_above</th>\n",
       "      <th>sqft_basement</th>\n",
       "      <th>yr_built</th>\n",
       "      <th>yr_renovated</th>\n",
       "      <th>street</th>\n",
       "      <th>city</th>\n",
       "      <th>statezip</th>\n",
       "      <th>country</th>\n",
       "    </tr>\n",
       "  </thead>\n",
       "  <tbody>\n",
       "    <tr>\n",
       "      <th>240</th>\n",
       "      <td>2014-05-07 0:00</td>\n",
       "      <td>630000.0</td>\n",
       "      <td>3</td>\n",
       "      <td>2.5</td>\n",
       "      <td>2680.0</td>\n",
       "      <td>327135.0</td>\n",
       "      <td>2.0</td>\n",
       "      <td>0.0</td>\n",
       "      <td>0.0</td>\n",
       "      <td>3.0</td>\n",
       "      <td>2680</td>\n",
       "      <td>0.0</td>\n",
       "      <td>1995</td>\n",
       "      <td>0</td>\n",
       "      <td>25339 SE 248th St</td>\n",
       "      <td>Other</td>\n",
       "      <td>WA 98051</td>\n",
       "      <td>USA</td>\n",
       "    </tr>\n",
       "    <tr>\n",
       "      <th>3878</th>\n",
       "      <td>2014-07-02 0:00</td>\n",
       "      <td>305000.0</td>\n",
       "      <td>3</td>\n",
       "      <td>1.0</td>\n",
       "      <td>1580.0</td>\n",
       "      <td>7424.0</td>\n",
       "      <td>1.0</td>\n",
       "      <td>0.0</td>\n",
       "      <td>0.0</td>\n",
       "      <td>3.0</td>\n",
       "      <td>1010</td>\n",
       "      <td>570.0</td>\n",
       "      <td>1962</td>\n",
       "      <td>2003</td>\n",
       "      <td>12633 SE 158th St</td>\n",
       "      <td>Renton</td>\n",
       "      <td>WA 98058</td>\n",
       "      <td>USA</td>\n",
       "    </tr>\n",
       "    <tr>\n",
       "      <th>818</th>\n",
       "      <td>2014-05-16 0:00</td>\n",
       "      <td>433000.0</td>\n",
       "      <td>4</td>\n",
       "      <td>2.5</td>\n",
       "      <td>2280.0</td>\n",
       "      <td>7568.0</td>\n",
       "      <td>2.0</td>\n",
       "      <td>0.0</td>\n",
       "      <td>0.0</td>\n",
       "      <td>4.0</td>\n",
       "      <td>2280</td>\n",
       "      <td>0.0</td>\n",
       "      <td>2001</td>\n",
       "      <td>0</td>\n",
       "      <td>2207 Kennewick Pl NE</td>\n",
       "      <td>Renton</td>\n",
       "      <td>WA 98056</td>\n",
       "      <td>USA</td>\n",
       "    </tr>\n",
       "    <tr>\n",
       "      <th>1877</th>\n",
       "      <td>2014-06-04 0:00</td>\n",
       "      <td>275000.0</td>\n",
       "      <td>2</td>\n",
       "      <td>1.0</td>\n",
       "      <td>770.0</td>\n",
       "      <td>8149.0</td>\n",
       "      <td>1.0</td>\n",
       "      <td>0.0</td>\n",
       "      <td>0.0</td>\n",
       "      <td>5.0</td>\n",
       "      <td>770</td>\n",
       "      <td>0.0</td>\n",
       "      <td>1948</td>\n",
       "      <td>1985</td>\n",
       "      <td>15346-15348 25th Ave NE</td>\n",
       "      <td>Other</td>\n",
       "      <td>WA 98155</td>\n",
       "      <td>USA</td>\n",
       "    </tr>\n",
       "    <tr>\n",
       "      <th>2602</th>\n",
       "      <td>2014-06-16 0:00</td>\n",
       "      <td>340000.0</td>\n",
       "      <td>3</td>\n",
       "      <td>2.5</td>\n",
       "      <td>1212.0</td>\n",
       "      <td>1174.0</td>\n",
       "      <td>3.0</td>\n",
       "      <td>0.0</td>\n",
       "      <td>0.0</td>\n",
       "      <td>3.0</td>\n",
       "      <td>1212</td>\n",
       "      <td>0.0</td>\n",
       "      <td>2004</td>\n",
       "      <td>2003</td>\n",
       "      <td>11716 16th Ave NE</td>\n",
       "      <td>Seattle</td>\n",
       "      <td>WA 98125</td>\n",
       "      <td>USA</td>\n",
       "    </tr>\n",
       "  </tbody>\n",
       "</table>\n",
       "</div>"
      ],
      "text/plain": [
       "                 date     price  bedrooms  bathrooms  sqft_living  sqft_lot  \\\n",
       "240   2014-05-07 0:00  630000.0         3        2.5       2680.0  327135.0   \n",
       "3878  2014-07-02 0:00  305000.0         3        1.0       1580.0    7424.0   \n",
       "818   2014-05-16 0:00  433000.0         4        2.5       2280.0    7568.0   \n",
       "1877  2014-06-04 0:00  275000.0         2        1.0        770.0    8149.0   \n",
       "2602  2014-06-16 0:00  340000.0         3        2.5       1212.0    1174.0   \n",
       "\n",
       "      floors  waterfront  view  condition  sqft_above  sqft_basement  \\\n",
       "240      2.0         0.0   0.0        3.0        2680            0.0   \n",
       "3878     1.0         0.0   0.0        3.0        1010          570.0   \n",
       "818      2.0         0.0   0.0        4.0        2280            0.0   \n",
       "1877     1.0         0.0   0.0        5.0         770            0.0   \n",
       "2602     3.0         0.0   0.0        3.0        1212            0.0   \n",
       "\n",
       "      yr_built  yr_renovated                   street     city  statezip  \\\n",
       "240       1995             0        25339 SE 248th St    Other  WA 98051   \n",
       "3878      1962          2003        12633 SE 158th St   Renton  WA 98058   \n",
       "818       2001             0     2207 Kennewick Pl NE   Renton  WA 98056   \n",
       "1877      1948          1985  15346-15348 25th Ave NE    Other  WA 98155   \n",
       "2602      2004          2003        11716 16th Ave NE  Seattle  WA 98125   \n",
       "\n",
       "     country  \n",
       "240      USA  \n",
       "3878     USA  \n",
       "818      USA  \n",
       "1877     USA  \n",
       "2602     USA  "
      ]
     },
     "execution_count": 83,
     "metadata": {},
     "output_type": "execute_result"
    }
   ],
   "source": [
    "# to make this notebook's output identical at every run\n",
    "np.random.seed(5)\n",
    "\n",
    "from sklearn.model_selection import train_test_split\n",
    "train_set, test_set = train_test_split(df, test_size=0.2, random_state=5)\n",
    "\n",
    "test_set.head()"
   ]
  },
  {
   "cell_type": "markdown",
   "id": "8c58d36a",
   "metadata": {},
   "source": [
    "# Data Cleaning\n",
    "**drop certain columns for the ease of model building.\n",
    "\"date\",\"street\",\"statezip\" will be dropped as these have too many unique values and leads to overfitting when creating dummy variables for them.\n",
    "\"country\" will be dropped as it only has 1 unique value, and will contribute nothing to the predicting model.**"
   ]
  },
  {
   "cell_type": "code",
   "execution_count": 84,
   "id": "c2e68691",
   "metadata": {},
   "outputs": [],
   "source": [
    "df = train_set.drop(\"price\", axis=1) # drop labels for training set\n",
    "df_labels = train_set[\"price\"].copy()"
   ]
  },
  {
   "cell_type": "code",
   "execution_count": 85,
   "id": "c20f405e",
   "metadata": {},
   "outputs": [
    {
     "data": {
      "text/html": [
       "<div>\n",
       "<style scoped>\n",
       "    .dataframe tbody tr th:only-of-type {\n",
       "        vertical-align: middle;\n",
       "    }\n",
       "\n",
       "    .dataframe tbody tr th {\n",
       "        vertical-align: top;\n",
       "    }\n",
       "\n",
       "    .dataframe thead th {\n",
       "        text-align: right;\n",
       "    }\n",
       "</style>\n",
       "<table border=\"1\" class=\"dataframe\">\n",
       "  <thead>\n",
       "    <tr style=\"text-align: right;\">\n",
       "      <th></th>\n",
       "      <th>date</th>\n",
       "      <th>bedrooms</th>\n",
       "      <th>bathrooms</th>\n",
       "      <th>sqft_living</th>\n",
       "      <th>sqft_lot</th>\n",
       "      <th>floors</th>\n",
       "      <th>waterfront</th>\n",
       "      <th>view</th>\n",
       "      <th>condition</th>\n",
       "      <th>sqft_above</th>\n",
       "      <th>sqft_basement</th>\n",
       "      <th>yr_built</th>\n",
       "      <th>yr_renovated</th>\n",
       "      <th>street</th>\n",
       "      <th>city</th>\n",
       "      <th>statezip</th>\n",
       "      <th>country</th>\n",
       "    </tr>\n",
       "  </thead>\n",
       "  <tbody>\n",
       "    <tr>\n",
       "      <th>1006</th>\n",
       "      <td>2014-05-20 0:00</td>\n",
       "      <td>4</td>\n",
       "      <td>1.50</td>\n",
       "      <td>2500.0</td>\n",
       "      <td>6300.0</td>\n",
       "      <td>1.0</td>\n",
       "      <td>NaN</td>\n",
       "      <td>0.0</td>\n",
       "      <td>4.0</td>\n",
       "      <td>1500</td>\n",
       "      <td>1000.0</td>\n",
       "      <td>1961</td>\n",
       "      <td>2001</td>\n",
       "      <td>24911-24917 38th Ave S</td>\n",
       "      <td>Other</td>\n",
       "      <td>WA 98032</td>\n",
       "      <td>USA</td>\n",
       "    </tr>\n",
       "    <tr>\n",
       "      <th>840</th>\n",
       "      <td>2014-05-16 0:00</td>\n",
       "      <td>3</td>\n",
       "      <td>2.25</td>\n",
       "      <td>NaN</td>\n",
       "      <td>1377.0</td>\n",
       "      <td>2.0</td>\n",
       "      <td>0.0</td>\n",
       "      <td>0.0</td>\n",
       "      <td>3.0</td>\n",
       "      <td>1290</td>\n",
       "      <td>120.0</td>\n",
       "      <td>2005</td>\n",
       "      <td>0</td>\n",
       "      <td>2012 NW Boulder Way Dr</td>\n",
       "      <td>Other</td>\n",
       "      <td>WA 98027</td>\n",
       "      <td>USA</td>\n",
       "    </tr>\n",
       "    <tr>\n",
       "      <th>4437</th>\n",
       "      <td>2014-05-30 0:00</td>\n",
       "      <td>3</td>\n",
       "      <td>2.50</td>\n",
       "      <td>NaN</td>\n",
       "      <td>19821.0</td>\n",
       "      <td>2.0</td>\n",
       "      <td>0.0</td>\n",
       "      <td>0.0</td>\n",
       "      <td>3.0</td>\n",
       "      <td>2260</td>\n",
       "      <td>0.0</td>\n",
       "      <td>1994</td>\n",
       "      <td>0</td>\n",
       "      <td>17207 190th Ave SE</td>\n",
       "      <td>Renton</td>\n",
       "      <td>WA 98058</td>\n",
       "      <td>USA</td>\n",
       "    </tr>\n",
       "    <tr>\n",
       "      <th>587</th>\n",
       "      <td>2014-05-13 0:00</td>\n",
       "      <td>3</td>\n",
       "      <td>2.00</td>\n",
       "      <td>1480.0</td>\n",
       "      <td>6600.0</td>\n",
       "      <td>1.0</td>\n",
       "      <td>0.0</td>\n",
       "      <td>2.0</td>\n",
       "      <td>NaN</td>\n",
       "      <td>740</td>\n",
       "      <td>740.0</td>\n",
       "      <td>1943</td>\n",
       "      <td>2002</td>\n",
       "      <td>4115 SW 106th St</td>\n",
       "      <td>Seattle</td>\n",
       "      <td>WA 98146</td>\n",
       "      <td>USA</td>\n",
       "    </tr>\n",
       "    <tr>\n",
       "      <th>680</th>\n",
       "      <td>2014-05-14 0:00</td>\n",
       "      <td>3</td>\n",
       "      <td>2.25</td>\n",
       "      <td>1970.0</td>\n",
       "      <td>3716.0</td>\n",
       "      <td>2.0</td>\n",
       "      <td>0.0</td>\n",
       "      <td>NaN</td>\n",
       "      <td>3.0</td>\n",
       "      <td>1970</td>\n",
       "      <td>0.0</td>\n",
       "      <td>1997</td>\n",
       "      <td>0</td>\n",
       "      <td>504 Shelton Ct NE</td>\n",
       "      <td>Renton</td>\n",
       "      <td>WA 98056</td>\n",
       "      <td>USA</td>\n",
       "    </tr>\n",
       "  </tbody>\n",
       "</table>\n",
       "</div>"
      ],
      "text/plain": [
       "                 date  bedrooms  bathrooms  sqft_living  sqft_lot  floors  \\\n",
       "1006  2014-05-20 0:00         4       1.50       2500.0    6300.0     1.0   \n",
       "840   2014-05-16 0:00         3       2.25          NaN    1377.0     2.0   \n",
       "4437  2014-05-30 0:00         3       2.50          NaN   19821.0     2.0   \n",
       "587   2014-05-13 0:00         3       2.00       1480.0    6600.0     1.0   \n",
       "680   2014-05-14 0:00         3       2.25       1970.0    3716.0     2.0   \n",
       "\n",
       "      waterfront  view  condition  sqft_above  sqft_basement  yr_built  \\\n",
       "1006         NaN   0.0        4.0        1500         1000.0      1961   \n",
       "840          0.0   0.0        3.0        1290          120.0      2005   \n",
       "4437         0.0   0.0        3.0        2260            0.0      1994   \n",
       "587          0.0   2.0        NaN         740          740.0      1943   \n",
       "680          0.0   NaN        3.0        1970            0.0      1997   \n",
       "\n",
       "      yr_renovated                  street     city  statezip country  \n",
       "1006          2001  24911-24917 38th Ave S    Other  WA 98032     USA  \n",
       "840              0  2012 NW Boulder Way Dr    Other  WA 98027     USA  \n",
       "4437             0      17207 190th Ave SE   Renton  WA 98058     USA  \n",
       "587           2002        4115 SW 106th St  Seattle  WA 98146     USA  \n",
       "680              0       504 Shelton Ct NE   Renton  WA 98056     USA  "
      ]
     },
     "execution_count": 85,
     "metadata": {},
     "output_type": "execute_result"
    }
   ],
   "source": [
    "sample_incomplete_rows = df[df.isnull().any(axis=1)].head()\n",
    "sample_incomplete_rows"
   ]
  },
  {
   "cell_type": "code",
   "execution_count": 86,
   "id": "7b0efda0",
   "metadata": {},
   "outputs": [],
   "source": [
    "from sklearn.impute import SimpleImputer\n",
    "imputer = SimpleImputer(strategy=\"median\")"
   ]
  },
  {
   "cell_type": "code",
   "execution_count": 87,
   "id": "ee0fac45",
   "metadata": {},
   "outputs": [
    {
     "data": {
      "text/html": [
       "<div>\n",
       "<style scoped>\n",
       "    .dataframe tbody tr th:only-of-type {\n",
       "        vertical-align: middle;\n",
       "    }\n",
       "\n",
       "    .dataframe tbody tr th {\n",
       "        vertical-align: top;\n",
       "    }\n",
       "\n",
       "    .dataframe thead th {\n",
       "        text-align: right;\n",
       "    }\n",
       "</style>\n",
       "<table border=\"1\" class=\"dataframe\">\n",
       "  <thead>\n",
       "    <tr style=\"text-align: right;\">\n",
       "      <th></th>\n",
       "      <th>bedrooms</th>\n",
       "      <th>bathrooms</th>\n",
       "      <th>sqft_living</th>\n",
       "      <th>sqft_lot</th>\n",
       "      <th>floors</th>\n",
       "      <th>waterfront</th>\n",
       "      <th>view</th>\n",
       "      <th>condition</th>\n",
       "      <th>sqft_above</th>\n",
       "      <th>sqft_basement</th>\n",
       "      <th>yr_built</th>\n",
       "      <th>yr_renovated</th>\n",
       "    </tr>\n",
       "  </thead>\n",
       "  <tbody>\n",
       "    <tr>\n",
       "      <th>1006</th>\n",
       "      <td>4.0</td>\n",
       "      <td>1.50</td>\n",
       "      <td>2500.0</td>\n",
       "      <td>6300.0</td>\n",
       "      <td>1.0</td>\n",
       "      <td>0.0</td>\n",
       "      <td>0.0</td>\n",
       "      <td>4.0</td>\n",
       "      <td>1500.0</td>\n",
       "      <td>1000.0</td>\n",
       "      <td>1961.0</td>\n",
       "      <td>2001.0</td>\n",
       "    </tr>\n",
       "    <tr>\n",
       "      <th>840</th>\n",
       "      <td>3.0</td>\n",
       "      <td>2.25</td>\n",
       "      <td>1982.0</td>\n",
       "      <td>1377.0</td>\n",
       "      <td>2.0</td>\n",
       "      <td>0.0</td>\n",
       "      <td>0.0</td>\n",
       "      <td>3.0</td>\n",
       "      <td>1290.0</td>\n",
       "      <td>120.0</td>\n",
       "      <td>2005.0</td>\n",
       "      <td>0.0</td>\n",
       "    </tr>\n",
       "    <tr>\n",
       "      <th>4437</th>\n",
       "      <td>3.0</td>\n",
       "      <td>2.50</td>\n",
       "      <td>1982.0</td>\n",
       "      <td>19821.0</td>\n",
       "      <td>2.0</td>\n",
       "      <td>0.0</td>\n",
       "      <td>0.0</td>\n",
       "      <td>3.0</td>\n",
       "      <td>2260.0</td>\n",
       "      <td>0.0</td>\n",
       "      <td>1994.0</td>\n",
       "      <td>0.0</td>\n",
       "    </tr>\n",
       "    <tr>\n",
       "      <th>587</th>\n",
       "      <td>3.0</td>\n",
       "      <td>2.00</td>\n",
       "      <td>1480.0</td>\n",
       "      <td>6600.0</td>\n",
       "      <td>1.0</td>\n",
       "      <td>0.0</td>\n",
       "      <td>2.0</td>\n",
       "      <td>3.0</td>\n",
       "      <td>740.0</td>\n",
       "      <td>740.0</td>\n",
       "      <td>1943.0</td>\n",
       "      <td>2002.0</td>\n",
       "    </tr>\n",
       "    <tr>\n",
       "      <th>680</th>\n",
       "      <td>3.0</td>\n",
       "      <td>2.25</td>\n",
       "      <td>1970.0</td>\n",
       "      <td>3716.0</td>\n",
       "      <td>2.0</td>\n",
       "      <td>0.0</td>\n",
       "      <td>0.0</td>\n",
       "      <td>3.0</td>\n",
       "      <td>1970.0</td>\n",
       "      <td>0.0</td>\n",
       "      <td>1997.0</td>\n",
       "      <td>0.0</td>\n",
       "    </tr>\n",
       "  </tbody>\n",
       "</table>\n",
       "</div>"
      ],
      "text/plain": [
       "      bedrooms  bathrooms  sqft_living  sqft_lot  floors  waterfront  view  \\\n",
       "1006       4.0       1.50       2500.0    6300.0     1.0         0.0   0.0   \n",
       "840        3.0       2.25       1982.0    1377.0     2.0         0.0   0.0   \n",
       "4437       3.0       2.50       1982.0   19821.0     2.0         0.0   0.0   \n",
       "587        3.0       2.00       1480.0    6600.0     1.0         0.0   2.0   \n",
       "680        3.0       2.25       1970.0    3716.0     2.0         0.0   0.0   \n",
       "\n",
       "      condition  sqft_above  sqft_basement  yr_built  yr_renovated  \n",
       "1006        4.0      1500.0         1000.0    1961.0        2001.0  \n",
       "840         3.0      1290.0          120.0    2005.0           0.0  \n",
       "4437        3.0      2260.0            0.0    1994.0           0.0  \n",
       "587         3.0       740.0          740.0    1943.0        2002.0  \n",
       "680         3.0      1970.0            0.0    1997.0           0.0  "
      ]
     },
     "execution_count": 87,
     "metadata": {},
     "output_type": "execute_result"
    }
   ],
   "source": [
    "#drop the object column first to compute median of each attribute\n",
    "#then use imputer to fill na\n",
    "df_num = df.drop(columns=objects)\n",
    "imputer.fit(df_num)\n",
    "X = imputer.transform(df_num)\n",
    "df_tr = pd.DataFrame(X, columns=df_num.columns,\n",
    "                          index=df.index)\n",
    "df_tr.loc[sample_incomplete_rows.index.values]"
   ]
  },
  {
   "cell_type": "markdown",
   "id": "0cd4bc14",
   "metadata": {},
   "source": [
    "# Handling Text and Categorical Attributes\n"
   ]
  },
  {
   "cell_type": "code",
   "execution_count": 88,
   "id": "01a32b8c",
   "metadata": {},
   "outputs": [],
   "source": [
    "df = df.drop(columns = [\"date\",\"street\",\"statezip\",\"country\"])"
   ]
  },
  {
   "cell_type": "code",
   "execution_count": 89,
   "id": "2c662da0",
   "metadata": {},
   "outputs": [
    {
     "data": {
      "text/plain": [
       "array([[1.],\n",
       "       [4.],\n",
       "       [1.],\n",
       "       [0.],\n",
       "       [2.],\n",
       "       [4.],\n",
       "       [2.],\n",
       "       [1.],\n",
       "       [1.],\n",
       "       [4.]])"
      ]
     },
     "execution_count": 89,
     "metadata": {},
     "output_type": "execute_result"
    }
   ],
   "source": [
    "from sklearn.preprocessing import OrdinalEncoder\n",
    "\n",
    "ordinal_encoder = OrdinalEncoder()\n",
    "df_cat_encoded = ordinal_encoder.fit_transform(df_cat)\n",
    "df_cat_encoded[:10]"
   ]
  },
  {
   "cell_type": "code",
   "execution_count": 90,
   "id": "9e099d7e",
   "metadata": {},
   "outputs": [
    {
     "data": {
      "text/plain": [
       "[array(['Bellevue', 'Other', 'Redmond', 'Renton', 'Seattle'], dtype=object)]"
      ]
     },
     "execution_count": 90,
     "metadata": {},
     "output_type": "execute_result"
    }
   ],
   "source": [
    "ordinal_encoder.categories_"
   ]
  },
  {
   "cell_type": "code",
   "execution_count": 91,
   "id": "edd15dac",
   "metadata": {},
   "outputs": [
    {
     "data": {
      "text/plain": [
       "array([[0., 1., 0., 0., 0.],\n",
       "       [0., 0., 0., 0., 1.],\n",
       "       [0., 1., 0., 0., 0.],\n",
       "       ...,\n",
       "       [0., 0., 0., 1., 0.],\n",
       "       [0., 0., 0., 0., 1.],\n",
       "       [0., 1., 0., 0., 0.]])"
      ]
     },
     "execution_count": 91,
     "metadata": {},
     "output_type": "execute_result"
    }
   ],
   "source": [
    "from sklearn.preprocessing import OneHotEncoder\n",
    "\n",
    "cat_encoder = OneHotEncoder(sparse=False)\n",
    "df_cat_1hot = cat_encoder.fit_transform(df_cat)\n",
    "df_cat_1hot"
   ]
  },
  {
   "cell_type": "markdown",
   "id": "d53e0f18",
   "metadata": {},
   "source": [
    "# Transformation Pipelines"
   ]
  },
  {
   "cell_type": "code",
   "execution_count": 92,
   "id": "e48ebb1b",
   "metadata": {},
   "outputs": [],
   "source": [
    "from sklearn.pipeline import Pipeline\n",
    "from sklearn.preprocessing import StandardScaler\n",
    "\n",
    "num_pipeline = Pipeline([\n",
    "        ('imputer', SimpleImputer(strategy=\"median\")),\n",
    "        ('std_scaler', StandardScaler()),\n",
    "    ])\n",
    "\n",
    "df_num_tr = num_pipeline.fit_transform(df_num)\n",
    "\n",
    "from sklearn.compose import ColumnTransformer\n",
    "\n",
    "num_attribs = list(df_num)\n",
    "cat_attribs = [\"city\"]\n",
    "\n",
    "full_pipeline = ColumnTransformer([\n",
    "        (\"num\", num_pipeline, num_attribs),\n",
    "        (\"cat\", OneHotEncoder(), cat_attribs),\n",
    "    ])\n",
    "\n",
    "df_prepared = full_pipeline.fit_transform(df)\n"
   ]
  },
  {
   "cell_type": "markdown",
   "id": "cbf23eea",
   "metadata": {},
   "source": [
    "# Create a Test Set （Stratified）"
   ]
  },
  {
   "cell_type": "code",
   "execution_count": 93,
   "id": "41a2ac1d",
   "metadata": {},
   "outputs": [],
   "source": [
    "# To use stratified test set, we need a proportion test to prove\n",
    "# there is no bias in the dataset.\n",
    "# df_tr[\"sqft_living\"].hist()\n",
    "\n",
    "# df_tr[\"sqft_living\"].isnull().count()\n",
    "\n",
    "# import numpy as np\n",
    "# # divide them into different bins to form categories\n",
    "# df_tr[\"living_cat\"] = pd.cut(df_tr[\"sqft_living\"],\n",
    "#                                bins=[0.,2000., 4000., 6000., np.inf],\n",
    "#                                labels=[1, 2, 3, 4])\n",
    "\n",
    "# print(df_tr[\"living_cat\"].value_counts())\n",
    "# df_tr[\"living_cat\"].hist()\n",
    "\n",
    "# from sklearn.model_selection import StratifiedShuffleSplit\n",
    "\n",
    "# split = StratifiedShuffleSplit(n_splits=1, test_size=0.2, random_state=42)\n",
    "# for train_index, test_index in split.split(df_tr, df_tr[\"living_cat\"]):\n",
    "#     strat_train_set = df_tr.loc[train_index]\n",
    "#     strat_test_set = df_tr.loc[test_index]\n",
    "    \n",
    "\n",
    "# strat_test_set[\"living_cat\"].value_counts() / len(strat_test_set)\n",
    "\n",
    "# df_tr[\"living_cat\"].value_counts() / len(df_tr)\n",
    "\n",
    "# def living_cat_proportions(data):\n",
    "#     return data[\"living_cat\"].value_counts() / len(data)\n",
    "\n",
    "# train_set, test_set = train_test_split(df_tr, test_size=0.2, random_state=5)\n",
    "\n",
    "# compare_props = pd.DataFrame({\n",
    "#     \"Overall\": living_cat_proportions(df_tr),\n",
    "#     \"Stratified\": living_cat_proportions(strat_test_set),\n",
    "#     \"Random\": living_cat_proportions(test_set),\n",
    "# }).sort_index()\n",
    "# compare_props[\"Rand. %error\"] = 100 * compare_props[\"Random\"] / compare_props[\"Overall\"] - 100\n",
    "# compare_props[\"Strat. %error\"] = 100 * compare_props[\"Stratified\"] / compare_props[\"Overall\"] - 100\n",
    "\n",
    "# compare_props\n",
    "\n",
    "# #random error is much larger than the strat error, therefore\n",
    "# #will not use the randomly chosen test_set, instead use stratified one.\n",
    "# for set_ in (strat_train_set, strat_test_set):\n",
    "#     set_.drop(\"living_cat\", axis=1, inplace=True)\n",
    "\n",
    "# #random error is much larger than the strat error, therefore\n",
    "# #will not use the randomly chosen test_set, instead use stratified one.\n",
    "# for set_ in (strat_train_set, strat_test_set):\n",
    "#     set_.drop(\"living_cat\", axis=1, inplace=True)\n",
    "\n",
    "# strat_train_set.info()"
   ]
  },
  {
   "cell_type": "markdown",
   "id": "d2c94efb",
   "metadata": {},
   "source": [
    "# Looking for Correlations"
   ]
  },
  {
   "cell_type": "code",
   "execution_count": 94,
   "id": "10316f97",
   "metadata": {},
   "outputs": [
    {
     "data": {
      "text/plain": [
       "price            1.000000\n",
       "sqft_living      0.430392\n",
       "sqft_above       0.367570\n",
       "bathrooms        0.327110\n",
       "view             0.228136\n",
       "sqft_basement    0.210223\n",
       "bedrooms         0.200336\n",
       "floors           0.151431\n",
       "waterfront       0.135641\n",
       "sqft_lot         0.050509\n",
       "condition        0.034956\n",
       "yr_built         0.021857\n",
       "yr_renovated    -0.028774\n",
       "Name: price, dtype: float64"
      ]
     },
     "execution_count": 94,
     "metadata": {},
     "output_type": "execute_result"
    }
   ],
   "source": [
    "df1 = pd.read_csv(\"data_Yichen.csv\")\n",
    "df_corr = df1.drop(columns=objects)\n",
    "\n",
    "corr_matrix = df_corr.corr()\n",
    "corr_matrix[\"price\"].sort_values(ascending=False)"
   ]
  },
  {
   "cell_type": "code",
   "execution_count": 95,
   "id": "007bc3f9",
   "metadata": {},
   "outputs": [
    {
     "data": {
      "text/plain": [
       "array([[<AxesSubplot:xlabel='sqft_living', ylabel='sqft_living'>,\n",
       "        <AxesSubplot:xlabel='sqft_above', ylabel='sqft_living'>,\n",
       "        <AxesSubplot:xlabel='bathrooms', ylabel='sqft_living'>,\n",
       "        <AxesSubplot:xlabel='view', ylabel='sqft_living'>,\n",
       "        <AxesSubplot:xlabel='sqft_basement', ylabel='sqft_living'>,\n",
       "        <AxesSubplot:xlabel='bedrooms', ylabel='sqft_living'>],\n",
       "       [<AxesSubplot:xlabel='sqft_living', ylabel='sqft_above'>,\n",
       "        <AxesSubplot:xlabel='sqft_above', ylabel='sqft_above'>,\n",
       "        <AxesSubplot:xlabel='bathrooms', ylabel='sqft_above'>,\n",
       "        <AxesSubplot:xlabel='view', ylabel='sqft_above'>,\n",
       "        <AxesSubplot:xlabel='sqft_basement', ylabel='sqft_above'>,\n",
       "        <AxesSubplot:xlabel='bedrooms', ylabel='sqft_above'>],\n",
       "       [<AxesSubplot:xlabel='sqft_living', ylabel='bathrooms'>,\n",
       "        <AxesSubplot:xlabel='sqft_above', ylabel='bathrooms'>,\n",
       "        <AxesSubplot:xlabel='bathrooms', ylabel='bathrooms'>,\n",
       "        <AxesSubplot:xlabel='view', ylabel='bathrooms'>,\n",
       "        <AxesSubplot:xlabel='sqft_basement', ylabel='bathrooms'>,\n",
       "        <AxesSubplot:xlabel='bedrooms', ylabel='bathrooms'>],\n",
       "       [<AxesSubplot:xlabel='sqft_living', ylabel='view'>,\n",
       "        <AxesSubplot:xlabel='sqft_above', ylabel='view'>,\n",
       "        <AxesSubplot:xlabel='bathrooms', ylabel='view'>,\n",
       "        <AxesSubplot:xlabel='view', ylabel='view'>,\n",
       "        <AxesSubplot:xlabel='sqft_basement', ylabel='view'>,\n",
       "        <AxesSubplot:xlabel='bedrooms', ylabel='view'>],\n",
       "       [<AxesSubplot:xlabel='sqft_living', ylabel='sqft_basement'>,\n",
       "        <AxesSubplot:xlabel='sqft_above', ylabel='sqft_basement'>,\n",
       "        <AxesSubplot:xlabel='bathrooms', ylabel='sqft_basement'>,\n",
       "        <AxesSubplot:xlabel='view', ylabel='sqft_basement'>,\n",
       "        <AxesSubplot:xlabel='sqft_basement', ylabel='sqft_basement'>,\n",
       "        <AxesSubplot:xlabel='bedrooms', ylabel='sqft_basement'>],\n",
       "       [<AxesSubplot:xlabel='sqft_living', ylabel='bedrooms'>,\n",
       "        <AxesSubplot:xlabel='sqft_above', ylabel='bedrooms'>,\n",
       "        <AxesSubplot:xlabel='bathrooms', ylabel='bedrooms'>,\n",
       "        <AxesSubplot:xlabel='view', ylabel='bedrooms'>,\n",
       "        <AxesSubplot:xlabel='sqft_basement', ylabel='bedrooms'>,\n",
       "        <AxesSubplot:xlabel='bedrooms', ylabel='bedrooms'>]], dtype=object)"
      ]
     },
     "execution_count": 95,
     "metadata": {},
     "output_type": "execute_result"
    },
    {
     "data": {
      "image/png": "[encoded data removed]",
      "text/plain": [
       "<Figure size 864x576 with 36 Axes>"
      ]
     },
     "metadata": {
      "needs_background": "light"
     },
     "output_type": "display_data"
    }
   ],
   "source": [
    "# from pandas.tools.plotting import scatter_matrix # For older versions of Pandas\n",
    "from pandas.plotting import scatter_matrix\n",
    "\n",
    "attributes = [\"sqft_living\", \"sqft_above\", \"bathrooms\",\n",
    "              \"view\",\"sqft_basement\",\"bedrooms\"]\n",
    "scatter_matrix(df[attributes], figsize=(12, 8))"
   ]
  },
  {
   "cell_type": "markdown",
   "id": "1405bf80",
   "metadata": {},
   "source": [
    "# Experimenting with Attribute Combinations\n"
   ]
  },
  {
   "cell_type": "code",
   "execution_count": 96,
   "id": "0c1848e6",
   "metadata": {},
   "outputs": [
    {
     "data": {
      "text/plain": [
       "price                          1.000000\n",
       "sqft_living                    0.430392\n",
       "sqft_above                     0.367570\n",
       "bathrooms                      0.327110\n",
       "view                           0.228136\n",
       "sqft_basement                  0.210223\n",
       "bedrooms                       0.200336\n",
       "average_bathrooms_per_floor    0.164544\n",
       "floors                         0.151431\n",
       "waterfront                     0.135641\n",
       "sqft_lot                       0.050509\n",
       "condition                      0.034956\n",
       "yr_built                       0.021857\n",
       "average_bedrooms_per_floor    -0.011075\n",
       "yr_renovated                  -0.028774\n",
       "Name: price, dtype: float64"
      ]
     },
     "execution_count": 96,
     "metadata": {},
     "output_type": "execute_result"
    }
   ],
   "source": [
    "df1[\"average_bedrooms_per_floor\"] = df1[\"bedrooms\"]/df1[\"floors\"]\n",
    "df1[\"average_bathrooms_per_floor\"] = df1[\"bathrooms\"]/df1[\"floors\"]\n",
    "corr_matrix = df1.corr()\n",
    "corr_matrix[\"price\"].sort_values(ascending=False)"
   ]
  },
  {
   "cell_type": "code",
   "execution_count": 97,
   "id": "2ad36c04",
   "metadata": {},
   "outputs": [
    {
     "data": {
      "image/png": "[encoded data removed]",
      "text/plain": [
       "<Figure size 432x288 with 1 Axes>"
      ]
     },
     "metadata": {
      "needs_background": "light"
     },
     "output_type": "display_data"
    }
   ],
   "source": [
    "df1.plot(kind=\"scatter\", x=\"average_bathrooms_per_floor\", y=\"price\",\n",
    "             alpha=0.2)\n",
    "plt.axis([0, 5, 0, 520000])\n",
    "plt.show()"
   ]
  },
  {
   "cell_type": "markdown",
   "id": "cc330de7",
   "metadata": {},
   "source": [
    "# Prepare the Data for Machine Learning Algorithms"
   ]
  },
  {
   "cell_type": "markdown",
   "id": "183c4bec",
   "metadata": {},
   "source": [
    "# Training and Evaluating on the Training Set"
   ]
  },
  {
   "cell_type": "code",
   "execution_count": 98,
   "id": "ff098fe9",
   "metadata": {},
   "outputs": [
    {
     "data": {
      "text/plain": [
       "LinearRegression()"
      ]
     },
     "execution_count": 98,
     "metadata": {},
     "output_type": "execute_result"
    }
   ],
   "source": [
    "from sklearn.linear_model import LinearRegression\n",
    "\n",
    "lin_reg = LinearRegression()\n",
    "lin_reg.fit(df_prepared, df_labels)"
   ]
  },
  {
   "cell_type": "code",
   "execution_count": 99,
   "id": "efb56f80",
   "metadata": {},
   "outputs": [
    {
     "data": {
      "text/plain": [
       "538713.1484996581"
      ]
     },
     "execution_count": 99,
     "metadata": {},
     "output_type": "execute_result"
    }
   ],
   "source": [
    "from sklearn.metrics import mean_squared_error\n",
    "\n",
    "predictions = lin_reg.predict(df_prepared)\n",
    "lin_mse = mean_squared_error(df_labels, predictions)\n",
    "\n",
    "lin_rmse = np.sqrt(lin_mse)\n",
    "lin_rmse"
   ]
  },
  {
   "cell_type": "code",
   "execution_count": 100,
   "id": "e30e87f4",
   "metadata": {},
   "outputs": [
    {
     "data": {
      "text/plain": [
       "159657.31684663426"
      ]
     },
     "execution_count": 100,
     "metadata": {},
     "output_type": "execute_result"
    }
   ],
   "source": [
    "from sklearn.metrics import mean_absolute_error\n",
    "\n",
    "lin_mae = mean_absolute_error(df_labels, predictions)\n",
    "lin_mae"
   ]
  },
  {
   "cell_type": "code",
   "execution_count": 101,
   "id": "6acf8155",
   "metadata": {},
   "outputs": [
    {
     "data": {
      "text/plain": [
       "DecisionTreeRegressor(random_state=5)"
      ]
     },
     "execution_count": 101,
     "metadata": {},
     "output_type": "execute_result"
    }
   ],
   "source": [
    "from sklearn.tree import DecisionTreeRegressor\n",
    "\n",
    "tree_reg = DecisionTreeRegressor(random_state=5)\n",
    "tree_reg.fit(df_prepared, df_labels)"
   ]
  },
  {
   "cell_type": "code",
   "execution_count": 102,
   "id": "a46e5ad6",
   "metadata": {},
   "outputs": [
    {
     "data": {
      "text/plain": [
       "652.7533657682196"
      ]
     },
     "execution_count": 102,
     "metadata": {},
     "output_type": "execute_result"
    }
   ],
   "source": [
    "predictions1 = tree_reg.predict(df_prepared)\n",
    "tree_mse = mean_squared_error(df_labels, predictions1)\n",
    "tree_rmse = np.sqrt(tree_mse)\n",
    "tree_rmse"
   ]
  },
  {
   "cell_type": "markdown",
   "id": "34dc6e1a",
   "metadata": {},
   "source": [
    "# Better Evaluation Using Cross-Validation\n"
   ]
  },
  {
   "cell_type": "code",
   "execution_count": 103,
   "id": "9919118a",
   "metadata": {},
   "outputs": [
    {
     "name": "stdout",
     "output_type": "stream",
     "text": [
      "Scores: [ 350772.38431538 1418616.45790195  740528.49557979  392440.96019702\n",
      "  276080.59743002  388185.63128012  376393.97917782  721444.12502822\n",
      "  365771.36656372  306692.84030325]\n",
      "Mean: 533692.6837777311\n",
      "Standard deviation: 332646.85443510785\n"
     ]
    }
   ],
   "source": [
    "from sklearn.model_selection import cross_val_score\n",
    "\n",
    "scores = cross_val_score(tree_reg, df_prepared, df_labels,\n",
    "                         scoring=\"neg_mean_squared_error\", cv=10)\n",
    "tree_rmse_scores = np.sqrt(-scores)\n",
    "\n",
    "def display_scores(scores):\n",
    "    print(\"Scores:\", scores)\n",
    "    print(\"Mean:\", scores.mean())\n",
    "    print(\"Standard deviation:\", scores.std())\n",
    "\n",
    "display_scores(tree_rmse_scores)"
   ]
  },
  {
   "cell_type": "code",
   "execution_count": 104,
   "id": "8317a386",
   "metadata": {},
   "outputs": [
    {
     "name": "stdout",
     "output_type": "stream",
     "text": [
      "Scores: [ 213316.44081161 1400233.65017173  690411.2474499   251743.54560485\n",
      "  216513.38748569  262476.3070155   268396.8660667   247897.18633525\n",
      "  309477.85014823  196293.84615839]\n",
      "Mean: 405676.0327247834\n",
      "Standard deviation: 358335.01256003545\n"
     ]
    }
   ],
   "source": [
    "lin_scores = cross_val_score(lin_reg,  df_prepared, df_labels,\n",
    "                             scoring=\"neg_mean_squared_error\", cv=10)\n",
    "lin_rmse_scores = np.sqrt(-lin_scores)\n",
    "display_scores(lin_rmse_scores)"
   ]
  },
  {
   "cell_type": "code",
   "execution_count": 105,
   "id": "5f8ac678",
   "metadata": {},
   "outputs": [
    {
     "name": "stdout",
     "output_type": "stream",
     "text": [
      "Scores: [ 225357.62891243 1400841.02042197  771628.41960116  691924.509252\n",
      "  374569.64423133  277788.30913113  388115.98138975  249232.57618532\n",
      "  359887.78954215  266623.91550827]\n",
      "Mean: 500596.97941755084\n",
      "Standard deviation: 348161.6579004736\n"
     ]
    }
   ],
   "source": [
    "from sklearn.ensemble import RandomForestRegressor\n",
    "\n",
    "forest_reg = RandomForestRegressor(n_estimators=100, random_state=5)\n",
    "forest_reg.fit(df_prepared, df_labels)\n",
    "\n",
    "housing_predictions2 = forest_reg.predict(df_prepared)\n",
    "forest_mse = mean_squared_error(df_labels, housing_predictions2)\n",
    "forest_rmse = np.sqrt(forest_mse)\n",
    "forest_rmse\n",
    "\n",
    "forest_scores = cross_val_score(forest_reg, df_prepared, df_labels,\n",
    "                                scoring=\"neg_mean_squared_error\", cv=10)\n",
    "forest_rmse_scores = np.sqrt(-forest_scores)\n",
    "display_scores(forest_rmse_scores)"
   ]
  },
  {
   "cell_type": "markdown",
   "id": "eb643687",
   "metadata": {},
   "source": [
    "# Fine-tuning of the model"
   ]
  },
  {
   "cell_type": "code",
   "execution_count": 106,
   "id": "4d6383f9",
   "metadata": {},
   "outputs": [
    {
     "data": {
      "text/plain": [
       "GridSearchCV(cv=5, estimator=RandomForestRegressor(random_state=5),\n",
       "             param_grid=[{'max_features': [2, 4, 6, 8],\n",
       "                          'n_estimators': [5, 10, 50, 100]},\n",
       "                         {'bootstrap': [False], 'max_features': [2, 3, 4],\n",
       "                          'n_estimators': [3, 10]}],\n",
       "             return_train_score=True, scoring='neg_mean_squared_error')"
      ]
     },
     "execution_count": 106,
     "metadata": {},
     "output_type": "execute_result"
    }
   ],
   "source": [
    "from sklearn.model_selection import GridSearchCV\n",
    "\n",
    "param_grid = [\n",
    "    # try 16 (4×4) combinations of hyperparameters\n",
    "    {'n_estimators': [5, 10, 50,100], 'max_features': [2, 4, 6, 8]},\n",
    "    # then try 6 (2×3) combinations with bootstrap set as False\n",
    "    {'bootstrap': [False], 'n_estimators': [3, 10], 'max_features': [2, 3, 4]},\n",
    "  ]\n",
    "\n",
    "forest_reg = RandomForestRegressor(random_state=5)\n",
    "# train across 5 folds, that's a total of (16+6)*5=110 rounds of training \n",
    "grid_search = GridSearchCV(forest_reg, param_grid, cv=5,\n",
    "                           scoring='neg_mean_squared_error',\n",
    "                           return_train_score=True)\n",
    "grid_search.fit(df_prepared, df_labels)"
   ]
  },
  {
   "cell_type": "code",
   "execution_count": 107,
   "id": "261df5d2",
   "metadata": {},
   "outputs": [
    {
     "data": {
      "text/plain": [
       "{'max_features': 4, 'n_estimators': 50}"
      ]
     },
     "execution_count": 107,
     "metadata": {},
     "output_type": "execute_result"
    }
   ],
   "source": [
    "grid_search.best_params_"
   ]
  },
  {
   "cell_type": "code",
   "execution_count": 108,
   "id": "ea8d7c0c",
   "metadata": {},
   "outputs": [
    {
     "data": {
      "text/plain": [
       "RandomForestRegressor(max_features=4, n_estimators=50, random_state=5)"
      ]
     },
     "execution_count": 108,
     "metadata": {},
     "output_type": "execute_result"
    }
   ],
   "source": [
    "grid_search.best_estimator_"
   ]
  },
  {
   "cell_type": "code",
   "execution_count": 109,
   "id": "857f826e",
   "metadata": {},
   "outputs": [
    {
     "data": {
      "text/plain": [
       "array([0.01702981, 0.08531379, 0.27736064, 0.13541098, 0.01277634,\n",
       "       0.00647351, 0.02481408, 0.03460658, 0.13453295, 0.04741402,\n",
       "       0.12963789, 0.02452048, 0.00814552, 0.0320854 , 0.00195467,\n",
       "       0.00381887, 0.02410446])"
      ]
     },
     "execution_count": 109,
     "metadata": {},
     "output_type": "execute_result"
    }
   ],
   "source": [
    "feature_importances = grid_search.best_estimator_.feature_importances_\n",
    "feature_importances"
   ]
  },
  {
   "cell_type": "code",
   "execution_count": 110,
   "id": "65a80c67",
   "metadata": {},
   "outputs": [
    {
     "name": "stdout",
     "output_type": "stream",
     "text": [
      "      predictor  feature importance\n",
      "2   sqft_living            0.277361\n",
      "3      sqft_lot            0.135411\n",
      "8    sqft_above            0.134533\n",
      "10     yr_built            0.129638\n",
      "1     bathrooms            0.085314\n"
     ]
    }
   ],
   "source": [
    "importance = pd.DataFrame(list(zip(df.columns,feature_importances)),columns=\n",
    "             ['predictor','feature importance'])\n",
    "print(importance.sort_values(by=['feature importance'],ascending = False).head(5))"
   ]
  },
  {
   "cell_type": "markdown",
   "id": "b2423eed",
   "metadata": {},
   "source": [
    "# Evaluate Your System on the Test Set"
   ]
  },
  {
   "cell_type": "code",
   "execution_count": 111,
   "id": "24e362de",
   "metadata": {},
   "outputs": [],
   "source": [
    "final_model = grid_search.best_estimator_\n",
    "\n",
    "X_test = test_set.drop(columns = [\"price\",\"date\",\"street\",\"statezip\",\"country\"], axis=1)\n",
    "y_test = test_set[\"price\"].copy()\n",
    "\n",
    "X_test_prepared = full_pipeline.transform(X_test)\n",
    "final_predictions = final_model.predict(X_test_prepared)\n",
    "\n",
    "final_mse = mean_squared_error(y_test, final_predictions)\n",
    "final_rmse = np.sqrt(final_mse)"
   ]
  },
  {
   "cell_type": "code",
   "execution_count": 112,
   "id": "00733d72",
   "metadata": {},
   "outputs": [
    {
     "data": {
      "text/plain": [
       "235013.98764417527"
      ]
     },
     "execution_count": 112,
     "metadata": {},
     "output_type": "execute_result"
    }
   ],
   "source": [
    "final_rmse"
   ]
  },
  {
   "cell_type": "code",
   "execution_count": 114,
   "id": "a5abe7b1",
   "metadata": {},
   "outputs": [
    {
     "data": {
      "text/plain": [
       "array([193478.93197026, 270238.878884  ])"
      ]
     },
     "execution_count": 114,
     "metadata": {},
     "output_type": "execute_result"
    }
   ],
   "source": [
    "from scipy import stats\n",
    "\n",
    "confidence = 0.95\n",
    "squared_errors = (final_predictions - y_test) ** 2\n",
    "np.sqrt(stats.t.interval(confidence, len(squared_errors) - 1,\n",
    "                         loc=squared_errors.mean(),\n",
    "                         scale=stats.sem(squared_errors)))"
   ]
  },
  {
   "cell_type": "code",
   "execution_count": null,
   "id": "1feab1d0",
   "metadata": {},
   "outputs": [],
   "source": []
  },
  {
   "cell_type": "code",
   "execution_count": null,
   "id": "af86bb8c",
   "metadata": {},
   "outputs": [],
   "source": []
  }
 ],
 "metadata": {
  "kernelspec": {
   "display_name": "Python 3",
   "language": "python",
   "name": "python3"
  },
  "language_info": {
   "codemirror_mode": {
    "name": "ipython",
    "version": 3
   },
   "file_extension": ".py",
   "mimetype": "text/x-python",
   "name": "python",
   "nbconvert_exporter": "python",
   "pygments_lexer": "ipython3",
   "version": "3.8.8"
  }
 },
 "nbformat": 4,
 "nbformat_minor": 5
}
